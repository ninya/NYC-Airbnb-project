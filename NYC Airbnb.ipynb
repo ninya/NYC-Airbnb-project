import pandas as pd
import seaborn as sns
import matplotlib.pyplot as plt
room_types = pd.read_csv('public_room_types_export_2024-04-22_145002.csv')
reviews = pd.read_csv('public_reviews_export_2024-04-22_144953.csv')
prices = pd.read_csv('public_prices_export_2024-04-22_144922.csv')
(room_types.head(), reviews.head(), prices.head())
prices.drop_duplicates(inplace=True)
reviews.drop_duplicates(inplace=True)
room_types.drop_duplicates(inplace=True)
room_types['description'].fillna('No description provided', inplace=True)

# Check if the operation was successful
print(room_types['description'].isna().sum())  # Should print 0
# Handling missing values
prices.fillna({'price_per_month': prices['price_per_month'].median()}, inplace=True)
reviews['number_of_reviews'].fillna(0, inplace=True)

# Correcting data types
reviews['last_review'] = pd.to_datetime(reviews['last_review'], format='%d/%m/%Y')

# Merging data
data = pd.merge(pd.merge(prices, reviews, on='listing_id'), room_types, on='listing_id')

# Filtering outliers
data = data[data['price'] > 0]  # Assuming price should be positive
prices.head()
# Determine the most common room type in NYC Airbnb listings
common_room_type = room_types['room_type'].value_counts().reset_index()
common_room_type.columns = ['Room Type', 'Count']
common_room_type
room_prices = pd.merge(room_types, prices, on="listing_id")

# Calculate average price of a listing by room type
average_price_by_room_type = room_prices.groupby('room_type')['price'].mean().reset_index()
average_price_by_room_type.columns = ['Room Type', 'Average Price']
average_price_by_room_type
# Calculate the average price per month for listings in each borough
average_price_per_month_by_borough = prices.groupby('borough')['price_per_month'].mean().reset_index()
average_price_per_month_by_borough.columns = ['Borough', 'Average Price per Month']
average_price_per_month_by_borough
# Calculate total reviews by neighborhood using the 'reviews' DataFrame
# Convert 'last_review' to datetime and extract year and month for grouping
reviews['last_review'] = pd.to_datetime(reviews['last_review'])
reviews['year_month'] = reviews['last_review'].dt.to_period('M')

# Group by new year_month column
monthly_reviews = reviews.groupby('year_month')['number_of_reviews'].sum()

# Creating the line graph
plt.figure(figsize=(12, 6))
monthly_reviews.plot(kind='line', marker='o', linestyle='-')
plt.title('Monthly Booking Trends')
plt.xlabel('Month')
plt.ylabel('Number of Reviews')
plt.xticks(rotation=45)
plt.show()
property_type_distribution = room_types['room_type'].value_counts()

# Creating the pie chart
plt.figure(figsize=(7, 7))
property_type_distribution.plot.pie(autopct='%1.1f%%', startangle=90, colors=['gold', 'lightgreen', 'lightcoral'])
plt.title('Distribution of Property Types')
plt.ylabel('')  # Hide the y-label as it's unnecessary here
plt.show()
# Merge prices with room_types to include property type
prices_with_types = pd.merge(prices, room_types, on="listing_id")

# Calculate average prices by neighborhood and property type
avg_prices = prices_with_types.groupby(['neighbourhood', 'room_type'])['price'].mean().unstack()

# Calculate the mean price across all room types for each neighbourhood
avg_prices['mean_price'] = avg_prices.mean(axis=1)

# Sort by the new mean_price column and select the top 10 neighborhoods
top_neighbourhoods = avg_prices.sort_values(by='mean_price', ascending=False).head(10)

# Drop the mean_price column to revert to the original room type columns for plotting
top_neighbourhoods = top_neighbourhoods.drop(columns='mean_price')

# Creating the line chart
plt.figure(figsize=(14, 7))
sns.lineplot(data=top_neighbourhoods, markers=True, dashes=False)
plt.title('Average Prices by Neighborhood and Property Type (Top 10)')
plt.xlabel('Neighborhood')
plt.ylabel('Average Price ($)')
plt.xticks(rotation=45)  # Adjust rotation if necessary
plt.legend(title='Property Type')
plt.show()
full_data = pd.merge(reviews, prices[['listing_id', 'neighbourhood']], on='listing_id', how='left')

total_reviews_by_neighborhood = full_data.groupby('neighbourhood')['number_of_reviews'].sum().sort_values(ascending=False)
top_neighbourhoods_reviews = total_reviews_by_neighborhood.head(10)
# Creating the bar chart
plt.figure(figsize=(10, 6))
top_neighbourhoods_reviews.plot(kind='bar', color='skyblue')
plt.title('Total Reviews by Neighborhood (Top 10)')
plt.xlabel('Neighborhood')
plt.ylabel('Total Reviews')
plt.xticks(rotation=45)  # Rotate the labels for better readability
plt.show()
